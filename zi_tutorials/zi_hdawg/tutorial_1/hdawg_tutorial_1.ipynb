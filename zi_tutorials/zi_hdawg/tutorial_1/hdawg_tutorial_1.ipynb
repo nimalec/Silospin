{
 "cells": [
  {
   "cell_type": "markdown",
   "metadata": {},
   "source": [
    "# ZI-HDAWG Tutorial 1: Basic pulse generation  "
   ]
  },
  {
   "cell_type": "markdown",
   "metadata": {},
   "source": [
    "Autho: Nima Leclerc (nleclerc@seas.upenn.edu), PhD Student in Electrical Engineering"
   ]
  },
  {
   "cell_type": "markdown",
   "metadata": {},
   "source": [
    "Last edited: October 12, 2021"
   ]
  },
  {
   "cell_type": "markdown",
   "metadata": {},
   "source": [
    "In this tutorial, we will implement standard voltage pulse sequences on the ZI-HDAWG arbitrary waveform generator. This tutorial is based on the documentation found in https://docs.zhinst.com/hdawg_user_manual/tutorial.html. First, ensure the the LabOne software is installed on the PC machine and the AWG is connected to an appropriate router and oscilliscope (or lock-in amplifier. "
   ]
  },
  {
   "cell_type": "markdown",
   "metadata": {},
   "source": [
    "To interface with the AWG, we will use the Module $\\texttt{zhinst.ziPython}$ for control and data acquisition (DAQ). First, execute the block of code below to establish a connection between the instrument and current PC. "
   ]
  },
  {
   "cell_type": "code",
   "execution_count": null,
   "metadata": {},
   "outputs": [],
   "source": [
    "import zhinst.ziPython as zi\n",
    "import zhinst.utils\n",
    "import numpy as np\n",
    "\n",
    "dev_id = 'dev8446' ##Device ID for HDAWG \n",
    "server_host = 'localhost' ## Host name for server \n",
    "server_port = 8004 ## Port number for server \n",
    "apilevel_example = 6 ## API number \n",
    "\n",
    "##Data aquisition (daq) and device connection  \n",
    "daq, device, _ = zhinst.utils.create_api_session(dev_id, apilevel_example, server_host=server_host, server_port=server_port)\n",
    "zhinst.utils.api_server_version_check(daq)\n",
    "zhinst.utils.disable_everything(daq, device)"
   ]
  },
  {
   "cell_type": "markdown",
   "metadata": {},
   "source": [
    "The below block of code initializes the experimental settings."
   ]
  },
  {
   "cell_type": "code",
   "execution_count": null,
   "metadata": {},
   "outputs": [],
   "source": [
    "daq.setInt(f\"/{device}/system/awg/channelgrouping\", 0) ## initialize channel grouping to 4x2\n",
    "out_channel = 0 \n",
    "awg_channel = 0\n",
    "amplitude = 1.0\n",
    "\n",
    "exp_setting = [\n",
    "    [\"/%s/sigouts/%d/on\" % (device, out_channel), 1],\n",
    "    [\"/%s/sigouts/%d/range\" % (device, out_channel), 1],\n",
    "    [\"/%s/awgs/0/outputs/%d/amplitude\" % (device, awg_channel), amplitude],\n",
    "    [\"/%s/awgs/0/outputs/0/modulation/mode\" % device, 0],\n",
    "    [\"/%s/awgs/0/time\" % device, 0],\n",
    "    [\"/%s/awgs/0/userregs/0\" % device, 0],\n",
    "]"
   ]
  },
  {
   "cell_type": "code",
   "execution_count": null,
   "metadata": {},
   "outputs": [],
   "source": [
    "daq.set(exp_setting) ## assign settings to AWG \n",
    "daq.sync() ## sync data acquisition module to AWG \n",
    "AWG_N = 2000"
   ]
  },
  {
   "cell_type": "markdown",
   "metadata": {},
   "source": [
    "Provide commands to sequencer. Allocate memory on the instrument, load wave, and play wave. Here, we have a sinusoidal wave  length 2000 "
   ]
  },
  {
   "cell_type": "code",
   "execution_count": null,
   "metadata": {},
   "outputs": [],
   "source": [
    "## Commands to be sent to AWG \n",
    "AWG_N = 2000 ## number of points in waveform  \n",
    "awg_program = textwrap.dedent(\n",
    "    \"\"\"\\\n",
    "    const AWG_N = _c1_;\n",
    "    wave w2 = vect(_w2_);\n",
    "    playWave(w2);\n",
    "    \"\"\"\n",
    "    )\n",
    "\n",
    "waveform_2 = np.sin(np.linspace(0, 2 * np.pi, 96)) # Waveform initialized in numpy \n",
    "awg_program = awg_program.replace(\"_w2_\", \",\".join([str(x) for x in waveform_2]))## Send waveform to AWG\n",
    "awg_program = awg_program.replace(\"_c1_\", str(AWG_N)) ## Send waveform length to AWG"
   ]
  },
  {
   "cell_type": "markdown",
   "metadata": {},
   "source": [
    "Now connect to AWG and play program. "
   ]
  },
  {
   "cell_type": "code",
   "execution_count": null,
   "metadata": {},
   "outputs": [],
   "source": [
    "## Assign changes to AWG and run program via 'set' function \n",
    "awgModule = daq.awgModule()\n",
    "awgModule.set(\"device\", device)\n",
    "awgModule.execute()\n",
    "\n",
    "awgModule.set(\"compiler/sourcestring\", awg_program)"
   ]
  }
 ],
 "metadata": {
  "kernelspec": {
   "display_name": "Python 3",
   "language": "python",
   "name": "python3"
  },
  "language_info": {
   "codemirror_mode": {
    "name": "ipython",
    "version": 3
   },
   "file_extension": ".py",
   "mimetype": "text/x-python",
   "name": "python",
   "nbconvert_exporter": "python",
   "pygments_lexer": "ipython3",
   "version": "3.7.6"
  }
 },
 "nbformat": 4,
 "nbformat_minor": 4
}
