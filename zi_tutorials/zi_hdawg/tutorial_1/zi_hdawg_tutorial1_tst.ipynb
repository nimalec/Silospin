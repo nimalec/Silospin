{
 "cells": [
  {
   "cell_type": "code",
   "execution_count": 1,
   "id": "e4872339",
   "metadata": {},
   "outputs": [
    {
     "ename": "RuntimeError",
     "evalue": "ZIAPIServerException with status code: 36876. Vector transfer error: accessing indexed element outside the current active range.",
     "output_type": "error",
     "traceback": [
      "\u001b[1;31m---------------------------------------------------------------------------\u001b[0m",
      "\u001b[1;31mRuntimeError\u001b[0m                              Traceback (most recent call last)",
      "\u001b[1;32mC:\\Users\\SIGILL~1\\AppData\\Local\\Temp/ipykernel_744/4068090739.py\u001b[0m in \u001b[0;36m<module>\u001b[1;34m\u001b[0m\n\u001b[0;32m     19\u001b[0m \u001b[0mwave_raw_a\u001b[0m \u001b[1;33m=\u001b[0m \u001b[0mzhinst\u001b[0m\u001b[1;33m.\u001b[0m\u001b[0mutils\u001b[0m\u001b[1;33m.\u001b[0m\u001b[0mconvert_awg_waveform\u001b[0m\u001b[1;33m(\u001b[0m\u001b[0mwave_a\u001b[0m\u001b[1;33m,\u001b[0m \u001b[0mmarkers\u001b[0m\u001b[1;33m=\u001b[0m\u001b[0mmarker_a\u001b[0m\u001b[1;33m)\u001b[0m\u001b[1;33m\u001b[0m\u001b[1;33m\u001b[0m\u001b[0m\n\u001b[0;32m     20\u001b[0m \u001b[0mwave_raw_bc\u001b[0m \u001b[1;33m=\u001b[0m \u001b[0mzhinst\u001b[0m\u001b[1;33m.\u001b[0m\u001b[0mutils\u001b[0m\u001b[1;33m.\u001b[0m\u001b[0mconvert_awg_waveform\u001b[0m\u001b[1;33m(\u001b[0m\u001b[0mwave_b\u001b[0m\u001b[1;33m,\u001b[0m \u001b[0mwave_c\u001b[0m\u001b[1;33m,\u001b[0m \u001b[0mmarkers\u001b[0m\u001b[1;33m=\u001b[0m\u001b[0mmarker_bc\u001b[0m\u001b[1;33m)\u001b[0m\u001b[1;33m\u001b[0m\u001b[1;33m\u001b[0m\u001b[0m\n\u001b[1;32m---> 21\u001b[1;33m \u001b[0mdaq\u001b[0m\u001b[1;33m.\u001b[0m\u001b[0msetVector\u001b[0m\u001b[1;33m(\u001b[0m\u001b[1;34mf'/{device:s}/awgs/0/waveform/waves/10'\u001b[0m\u001b[1;33m,\u001b[0m \u001b[0mwave_raw_a\u001b[0m\u001b[1;33m)\u001b[0m\u001b[1;33m\u001b[0m\u001b[1;33m\u001b[0m\u001b[0m\n\u001b[0m",
      "\u001b[1;31mRuntimeError\u001b[0m: ZIAPIServerException with status code: 36876. Vector transfer error: accessing indexed element outside the current active range."
     ]
    }
   ],
   "source": [
    "import zhinst.ziPython as zi\n",
    "import zhinst.utils\n",
    "import numpy as np\n",
    "\n",
    "device = 'dev8446'\n",
    "daq = zi.ziDAQServer('localhost', 8004, 6) #Connect to the dataserver\n",
    "daq.connectDevice(device, '1GbE')          #Connect to the device\n",
    "\n",
    "#Generate a waveform and marker\n",
    "LENGTH = 1024\n",
    "wave_a = np.sin(np.linspace(0, 10*np.pi, LENGTH))*np.exp(np.linspace(0, -5, LENGTH))\n",
    "wave_b = np.sin(np.linspace(0, 20*np.pi, LENGTH))*np.exp(np.linspace(0, -5, LENGTH))\n",
    "wave_c = np.sin(np.linspace(0, 30*np.pi, LENGTH))*np.exp(np.linspace(0, -5, LENGTH))\n",
    "\n",
    "marker_a  = np.concatenate([  0b11*np.ones(32), np.zeros(LENGTH-32)]).astype(int)\n",
    "marker_bc = np.concatenate([0b1111*np.ones(32), np.zeros(LENGTH-32)]).astype(int)\n",
    "\n",
    "#Convert and send them to the instrument\n",
    "wave_raw_a = zhinst.utils.convert_awg_waveform(wave_a, markers=marker_a)\n",
    "wave_raw_bc = zhinst.utils.convert_awg_waveform(wave_b, wave_c, markers=marker_bc)\n",
    "daq.setVector(f'/{device:s}/awgs/0/waveform/waves/10', wave_raw_a)"
   ]
  },
  {
   "cell_type": "code",
   "execution_count": null,
   "id": "4f35b3a5",
   "metadata": {},
   "outputs": [],
   "source": []
  }
 ],
 "metadata": {
  "kernelspec": {
   "display_name": "Python 3 (ipykernel)",
   "language": "python",
   "name": "python3"
  },
  "language_info": {
   "codemirror_mode": {
    "name": "ipython",
    "version": 3
   },
   "file_extension": ".py",
   "mimetype": "text/x-python",
   "name": "python",
   "nbconvert_exporter": "python",
   "pygments_lexer": "ipython3",
   "version": "3.9.7"
  }
 },
 "nbformat": 4,
 "nbformat_minor": 5
}
